{
 "cells": [
  {
   "cell_type": "code",
   "execution_count": 23,
   "id": "73b50924-5920-4bf5-b701-ed9d53cce0f1",
   "metadata": {},
   "outputs": [],
   "source": [
    "import numpy as np\n",
    "import pandas as pd\n",
    "import scipy as sp\n",
    "import sklearn as sk\n",
    "import cv2\n",
    "import matplotlib.pyplot as plt\n",
    "import matplotlib"
   ]
  },
  {
   "cell_type": "code",
   "execution_count": 24,
   "id": "25ae483c-3a03-487b-99cc-ec22e8e7ca22",
   "metadata": {},
   "outputs": [
    {
     "name": "stderr",
     "output_type": "stream",
     "text": [
      "/Users/thecydonian/miniconda3/lib/python3.9/site-packages/IPython/core/interactiveshell.py:3361: DtypeWarning: Columns (35,36) have mixed types.Specify dtype option on import or set low_memory=False.\n",
      "  exec(code_obj, self.user_global_ns, self.user_ns)\n"
     ]
    }
   ],
   "source": [
    "df = pd.read_csv('EVS7.csv', sep=',')\n",
    "# print(list(df))\n",
    "# print(df)\n",
    "QOI = ['Q46', 'Q47', 'Q48', 'Q49', 'Q50', 'Q57', 'Q71', 'Q106', 'Q107', 'Q108']"
   ]
  },
  {
   "cell_type": "markdown",
   "id": "214f9147-94e3-4778-8164-261ed88a60f4",
   "metadata": {},
   "source": [
    "---\n",
    "## Select Relevant Questions and Normalize"
   ]
  },
  {
   "cell_type": "code",
   "execution_count": 25,
   "id": "240d6c69-ec9d-46be-a07c-a79ccdfafee8",
   "metadata": {},
   "outputs": [],
   "source": [
    "subdf = df[['A001', 'A002', 'A003', 'A004', 'A005', 'A006', 'A008', 'A009', 'A170', 'A173', 'A027', 'A029', 'A030', 'A032', 'A034', 'A035', 'A038', 'A039', 'A040', 'A041', 'A042', 'A065', 'A066', 'A067', 'A068', 'A071', 'A072', 'A074', 'A078', 'A079', 'A080_01', 'A080_02', 'A124_02', 'A124_03', 'A124_06', 'A124_08', 'A124_09', 'A165', 'B008', 'C001', 'C001_01', 'C002', 'C002_01', 'D081', 'D026_03', 'D026_05', 'C038', 'C039', 'C041', 'D001_B', 'G007_18_B', 'G007_33_B', 'G007_34_B', 'G007_35_B', 'G007_36_B', 'D054', 'D059', 'D060', 'D061', 'D078', 'E001', 'E002', 'E003', 'E004', 'Y002', 'E012', 'E015', 'E018', 'E023', 'E025', 'E026', 'E027', 'E028', 'E033', 'E035', 'E036', 'E037', 'E039', 'E069_01', 'E069_02', 'E069_04', 'E069_05', 'E069_06', 'E069_07', 'E069_08', 'E069_18A', 'E069_18', 'E069_11', 'E069_12', 'E069_13', 'E069_14', 'E069_17', 'E069_20', 'E111_01', 'E114', 'E115', 'E116', 'E117', 'E179_WVS7', 'E181_EVS5', 'E224', 'E225', 'E226', 'E227', 'E228', 'E229', 'E233', 'E233A', 'E233B', 'E235', 'E236', 'E263', 'E264', 'E265_01', 'E265_02', 'E265_03', 'E265_04', 'E265_05', 'E265_06', 'E265_07', 'E265_08', 'F025', 'F028', 'F028B_WVS7', 'F066_EVS5', 'F034', 'F050', 'F051', 'F053', 'F054', 'F063', 'F114A', 'F115', 'F116', 'F117', 'F118', 'F119', 'F120', 'F121', 'F122', 'F123', 'F132', 'E290', 'F144_02', 'G005', 'G006', 'G052', 'G062', 'G063', 'G255', 'G256', 'G257', 'H009', 'H010', 'H011', 'X001', 'X002', 'X003', 'X003R', 'X003R2', 'G027A', 'X002_02A', 'V002', 'V002A', 'V001', 'V001A', 'X007', 'x026_01', 'X011', 'X013', 'X025A_01', 'X025R', 'W002A_01', 'W002R', 'V004AM_01', 'V004RM', 'V004AF_01', 'V004RF']]\n",
    "\n",
    "subdf = subdf.dropna().apply(pd.to_numeric)\n",
    "\n",
    "subdf[subdf < 0] = np.nan\n",
    "\n",
    "norm=(subdf-subdf.min())/(subdf.max()-subdf.min())\n",
    "\n",
    "norm = norm.fillna(norm.mean())\n",
    "\n",
    "with_countries = df[['cntry_AN']].join(norm)"
   ]
  },
  {
   "cell_type": "markdown",
   "id": "2c363129-ab32-4f75-935b-0b0c5cdb0c20",
   "metadata": {},
   "source": [
    "---\n",
    "## Investigating Respect for Authority"
   ]
  },
  {
   "cell_type": "code",
   "execution_count": 26,
   "id": "48b8b60c-2309-4c53-b5cf-0a9507ece230",
   "metadata": {},
   "outputs": [
    {
     "name": "stdout",
     "output_type": "stream",
     "text": [
      "              E018\n",
      "cntry_AN          \n",
      "NG        0.050458\n",
      "EC        0.062455\n",
      "BO        0.067826\n",
      "PT        0.077940\n",
      "NI        0.082083\n",
      "PR        0.084789\n",
      "CO        0.086184\n",
      "VN        0.086250\n",
      "ZW        0.087358\n",
      "JO        0.088576\n"
     ]
    }
   ],
   "source": [
    "auth_by_country = with_countries[['cntry_AN', 'E018']]\n",
    "\n",
    "auth_by_country = auth_by_country.groupby(['cntry_AN']).mean()\n",
    "\n",
    "\n",
    "sortedauth = auth_by_country.sort_values(by=['E018'], ascending=True)\n",
    "print(sortedauth[:10])"
   ]
  },
  {
   "cell_type": "markdown",
   "id": "31717e8c-2aa4-4712-bf59-f8fadb36120f",
   "metadata": {},
   "source": [
    "Norway, Sweden, and Finland in top 10 for respect for authority"
   ]
  },
  {
   "cell_type": "code",
   "execution_count": 27,
   "id": "d72144fc-df8b-4abd-b641-74e663839324",
   "metadata": {},
   "outputs": [
    {
     "name": "stdout",
     "output_type": "stream",
     "text": [
      "Denmark: 46\n",
      "Norway: 76\n",
      "Sweden: 74\n",
      "Finland: 73\n",
      "Total Countries Responded: 81\n"
     ]
    }
   ],
   "source": [
    "print(f\"Denmark: {np.where(sortedauth.index == 'DK')[0][0]}\")\n",
    "print(f\"Norway: {np.where(sortedauth.index == 'NO')[0][0]}\")\n",
    "print(f\"Sweden: {np.where(sortedauth.index == 'SE')[0][0]}\")\n",
    "print(f\"Finland: {np.where(sortedauth.index == 'FI')[0][0]}\")\n",
    "\n",
    "print(f\"Total Countries Responded: {len(sortedauth)}\")"
   ]
  },
  {
   "cell_type": "markdown",
   "id": "bf95655a-a463-4079-a4a2-d9f7ebfb3d10",
   "metadata": {},
   "source": [
    "---\n",
    "## Investigating Confidence in Government"
   ]
  },
  {
   "cell_type": "code",
   "execution_count": 28,
   "id": "b5cdbcee-b29e-499a-950b-156786190de2",
   "metadata": {},
   "outputs": [
    {
     "name": "stdout",
     "output_type": "stream",
     "text": [
      "           E069_11\n",
      "cntry_AN          \n",
      "CN        0.188088\n",
      "TJ        0.196181\n",
      "AZ        0.235365\n",
      "VN        0.240259\n",
      "ID        0.286269\n",
      "PH        0.294444\n",
      "MM        0.299444\n",
      "BD        0.299673\n",
      "SG        0.332937\n",
      "KZ        0.375654\n"
     ]
    }
   ],
   "source": [
    "conf_by_country = with_countries[['cntry_AN', 'E069_11']]\n",
    "\n",
    "conf_by_country = conf_by_country.groupby(['cntry_AN']).mean()\n",
    "\n",
    "\n",
    "sortedconf = conf_by_country.sort_values(by=['E069_11'], ascending=True)\n",
    "print(sortedconf[:10])"
   ]
  },
  {
   "cell_type": "markdown",
   "id": "e7cb8007-7c31-4a80-bf59-b6b5f32e30c7",
   "metadata": {},
   "source": [
    "No Scandinavian Countries in top 10 for confidence in government"
   ]
  },
  {
   "cell_type": "code",
   "execution_count": 29,
   "id": "debd1b3a-6fc8-4f9d-82fa-72f9fba9b9f1",
   "metadata": {},
   "outputs": [
    {
     "name": "stdout",
     "output_type": "stream",
     "text": [
      "Denmark: 36\n",
      "Norway: 15\n",
      "Sweden: 21\n",
      "Finland: 32\n",
      "Total Countries Responded: 81\n"
     ]
    }
   ],
   "source": [
    "print(f\"Denmark: {np.where(sortedconf.index == 'DK')[0][0]}\")\n",
    "print(f\"Norway: {np.where(sortedconf.index == 'NO')[0][0]}\")\n",
    "print(f\"Sweden: {np.where(sortedconf.index == 'SE')[0][0]}\")\n",
    "print(f\"Finland: {np.where(sortedconf.index == 'FI')[0][0]}\")\n",
    "print(f\"Total Countries Responded: {len(sortedconf)}\")"
   ]
  },
  {
   "cell_type": "markdown",
   "id": "0dead66c-9168-49ae-9b33-51f8c4bb372a",
   "metadata": {},
   "source": [
    "### Investigating Why:"
   ]
  },
  {
   "cell_type": "code",
   "execution_count": 30,
   "id": "f3c5edc4-a1ef-4933-9578-9e2fc45b90ad",
   "metadata": {},
   "outputs": [
    {
     "name": "stderr",
     "output_type": "stream",
     "text": [
      "/var/folders/93/1_dtm0m93q54rqjqy65jg_s80000gn/T/ipykernel_73261/4213033405.py:4: FutureWarning: In a future version of pandas all arguments of DataFrame.drop except for the argument 'labels' will be keyword-only\n",
      "  X = norm.drop('E069_11', 1)\n"
     ]
    },
    {
     "name": "stdout",
     "output_type": "stream",
     "text": [
      "             0  Coefficients\n",
      "83     E069_07      0.277443\n",
      "87     E069_12      0.245299\n",
      "92     E111_01     -0.131304\n",
      "90     E069_17      0.130217\n",
      "84     E069_08      0.080328\n",
      "82     E069_06      0.051510\n",
      "109       E236     -0.038764\n",
      "143       G005      0.033660\n",
      "173  V004AM_01      0.029146\n",
      "155       X002     -0.027424\n",
      "156       X003      0.027162\n",
      "160   X002_02A      0.027091\n",
      "79     E069_02      0.026488\n",
      "150       G257      0.025667\n",
      "88     E069_13      0.024081\n",
      "45     D026_05      0.023564\n",
      "43        D081     -0.022570\n",
      "164      V001A     -0.022275\n",
      "112    E265_01      0.020917\n",
      "157      X003R     -0.020675\n"
     ]
    }
   ],
   "source": [
    "from sklearn.linear_model import LinearRegression\n",
    "\n",
    "y = norm['E069_11']\n",
    "X = norm.drop('E069_11', 1)\n",
    "\n",
    "reg = LinearRegression().fit(X, y)\n",
    "reg.score(X, y)\n",
    "\n",
    "coefficients = pd.concat([pd.DataFrame(X.columns),pd.DataFrame(np.transpose(reg.coef_), columns=['Coefficients'])], axis = 1)\n",
    "coefficients = coefficients.sort_values(by=['Coefficients'], ascending=False, key=abs)\n",
    "\n",
    "print(coefficients[:20])"
   ]
  },
  {
   "cell_type": "code",
   "execution_count": 31,
   "id": "2ccd6532-783d-4cf9-96ce-81c627553509",
   "metadata": {},
   "outputs": [],
   "source": [
    "from sklearn import datasets, linear_model\n",
    "import statsmodels.api as sma"
   ]
  },
  {
   "cell_type": "code",
   "execution_count": 33,
   "id": "81688631-09f3-4709-8de4-8d8f9a77f01f",
   "metadata": {},
   "outputs": [
    {
     "name": "stdout",
     "output_type": "stream",
     "text": [
      "               coef         pvalue\n",
      "E069_07    0.277850   0.000000e+00\n",
      "E069_12    0.245642   0.000000e+00\n",
      "E111_01   -0.130904   0.000000e+00\n",
      "E069_17    0.129991   0.000000e+00\n",
      "X003       0.128201   1.392528e-21\n",
      "E069_08    0.080432  4.793728e-194\n",
      "X002       0.074387   4.488447e-16\n",
      "E069_06    0.051693   6.517361e-99\n",
      "E236      -0.038333   9.877262e-50\n",
      "G005       0.036516   5.672341e-27\n",
      "V004AM_01  0.030374   6.735751e-05\n",
      "E069_02    0.026483   5.299607e-31\n",
      "G257       0.025754   2.900246e-19\n",
      "X002_02A   0.025725   1.232614e-01\n",
      "E069_13    0.024085   3.265727e-22\n",
      "D026_05    0.023795   4.138072e-23\n",
      "V001A     -0.022731   1.343870e-01\n",
      "D081      -0.021890   2.569100e-23\n",
      "E265_01    0.021027   1.399559e-20\n",
      "X003R     -0.020007   1.302267e-02\n",
      "E233B     -0.018347   5.121603e-19\n",
      "E069_14    0.017903   6.622048e-14\n",
      "E235       0.017795   1.334560e-10\n",
      "E026      -0.017724   2.175476e-15\n",
      "H010       0.017178   8.379820e-15\n",
      "E114       0.017157   1.271324e-20\n",
      "E227       0.017082   3.498734e-13\n",
      "F063      -0.017013   1.322686e-09\n",
      "G007_34_B -0.016521   5.311240e-10\n",
      "Y002       0.016199   1.120993e-14\n",
      "E265_04   -0.016194   1.245993e-12\n",
      "E033      -0.015795   2.844772e-10\n",
      "E039       0.015221   1.103410e-14\n",
      "E069_18A   0.015140   1.251238e-05\n",
      "A008       0.015113   9.937794e-08\n",
      "F120       0.015017   9.573220e-10\n",
      "G256      -0.014924   8.878922e-07\n",
      "E264       0.014881   2.585792e-06\n",
      "E069_18   -0.014556   2.856604e-04\n",
      "W002A_01   0.014519   6.972376e-02\n"
     ]
    }
   ],
   "source": [
    "_1  = sma.OLS(y, X)\n",
    "_2  = _1.fit()\n",
    "\n",
    "# print(_2.summary())\n",
    "\n",
    "# print(_2.pvalues)\n",
    "\n",
    "#convert each Series to a DataFrame\n",
    "coefs = _2.params.to_frame(name='coef')\n",
    "pvalues = _2.pvalues.to_frame(name='pvalue')\n",
    "\n",
    "#concatenate three Series into one DataFrame\n",
    "resultsdf = pd.concat([coefs, pvalues], axis=1)\n",
    "\n",
    "resultsdf = resultsdf.sort_values(by=['coef'], ascending=False, key=abs)\n",
    "\n",
    "print(resultsdf[:40])"
   ]
  },
  {
   "cell_type": "markdown",
   "id": "d08ede0d-f84c-4d13-a81e-d94f5536e97f",
   "metadata": {},
   "source": [
    "Confidence in Parliment\n",
    "Confidence in Political Parties\n",
    "Satisfaction with the Political System\n",
    "Confidence in Justice System\n",
    "Age Recorded? + (older less trust)\n",
    "Confidence in the Civil Services\n",
    "\\\\\\\n",
    "Confidence in The Police\n",
    "Democraticness in Own Country - (more democratic more trust)\n",
    "Citizen of Country + (not citizen less trust)\n",
    "Highest Education Level of Mother + (more education less trust)\n",
    "Confidence in Armed Forces\n",
    "How close do you feel to your country\n",
    "\\\\\\\n",
    "Confidence in Major Countries\n",
    "Child must care for sick parent\n",
    "\\\\\\\n",
    "Homosexual couples make equally good parents\n",
    "Confidence in fair counting of votes\n",
    "Age Recorded"
   ]
  },
  {
   "cell_type": "markdown",
   "id": "53d7ddb3-54fe-4e89-9eb9-b9dc23d32435",
   "metadata": {},
   "source": [
    "higher = less trust"
   ]
  }
 ],
 "metadata": {
  "kernelspec": {
   "display_name": "Python 3 (ipykernel)",
   "language": "python",
   "name": "python3"
  },
  "language_info": {
   "codemirror_mode": {
    "name": "ipython",
    "version": 3
   },
   "file_extension": ".py",
   "mimetype": "text/x-python",
   "name": "python",
   "nbconvert_exporter": "python",
   "pygments_lexer": "ipython3",
   "version": "3.9.7"
  }
 },
 "nbformat": 4,
 "nbformat_minor": 5
}
